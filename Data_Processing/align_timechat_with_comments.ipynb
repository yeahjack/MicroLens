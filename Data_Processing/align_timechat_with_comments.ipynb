{
 "cells": [
  {
   "cell_type": "code",
   "execution_count": 1,
   "metadata": {},
   "outputs": [],
   "source": [
    "import pandas as pd\n",
    "from tqdm import tqdm\n",
    "import json\n",
    "import os"
   ]
  },
  {
   "cell_type": "code",
   "execution_count": 2,
   "metadata": {},
   "outputs": [
    {
     "name": "stderr",
     "output_type": "stream",
     "text": [
      "/tmp/ipykernel_786142/3659970425.py:2: DtypeWarning: Columns (0,1) have mixed types. Specify dtype option on import or set low_memory=False.\n",
      "  comments = pd.read_csv('/hpc2hdd/home/yxu409/MicroLens/Dataset/Microlens-100k/MicroLens-100k_comment_en.txt', sep='\t', header=None)\n"
     ]
    }
   ],
   "source": [
    "# load /hpc2hdd/home/yxu409/MicroLens/Dataset/Microlens-100k/MicroLens-100k_comment_en.txt\n",
    "comments = pd.read_csv('/hpc2hdd/home/yxu409/MicroLens/Dataset/Microlens-100k/MicroLens-100k_comment_en.txt', sep='\t', header=None)"
   ]
  },
  {
   "cell_type": "code",
   "execution_count": 3,
   "metadata": {},
   "outputs": [],
   "source": [
    "comments.columns = ['user_id', 'video_id', 'comment']"
   ]
  },
  {
   "cell_type": "code",
   "execution_count": 4,
   "metadata": {},
   "outputs": [],
   "source": [
    "timechat_results_dir = '/hpc2hdd/home/yxu409/MicroLens/TimeChat/results'"
   ]
  },
  {
   "cell_type": "code",
   "execution_count": 5,
   "metadata": {},
   "outputs": [],
   "source": [
    "all_timechat_files = []\n",
    "for filename in os.listdir(timechat_results_dir):\n",
    "    with open(os.path.join(timechat_results_dir, filename), 'r') as file:\n",
    "        for line in file:\n",
    "            all_timechat_files.append(json.loads(line))"
   ]
  },
  {
   "cell_type": "code",
   "execution_count": 6,
   "metadata": {},
   "outputs": [],
   "source": [
    "all_timechat_files = pd.DataFrame(all_timechat_files)"
   ]
  },
  {
   "cell_type": "code",
   "execution_count": 7,
   "metadata": {},
   "outputs": [
    {
     "data": {
      "text/html": [
       "<div>\n",
       "<style scoped>\n",
       "    .dataframe tbody tr th:only-of-type {\n",
       "        vertical-align: middle;\n",
       "    }\n",
       "\n",
       "    .dataframe tbody tr th {\n",
       "        vertical-align: top;\n",
       "    }\n",
       "\n",
       "    .dataframe thead th {\n",
       "        text-align: right;\n",
       "    }\n",
       "</style>\n",
       "<table border=\"1\" class=\"dataframe\">\n",
       "  <thead>\n",
       "    <tr style=\"text-align: right;\">\n",
       "      <th></th>\n",
       "      <th>video_id</th>\n",
       "      <th>message</th>\n",
       "    </tr>\n",
       "  </thead>\n",
       "  <tbody>\n",
       "    <tr>\n",
       "      <th>0</th>\n",
       "      <td>9865</td>\n",
       "      <td>0.0 - 12.8 seconds, Cartoon characters are dan...</td>\n",
       "    </tr>\n",
       "    <tr>\n",
       "      <th>1</th>\n",
       "      <td>9866</td>\n",
       "      <td>This emphasizes the importance of using an app...</td>\n",
       "    </tr>\n",
       "    <tr>\n",
       "      <th>2</th>\n",
       "      <td>9867</td>\n",
       "      <td>0.0 - 16.9 seconds, There are a lot of men out...</td>\n",
       "    </tr>\n",
       "    <tr>\n",
       "      <th>3</th>\n",
       "      <td>9868</td>\n",
       "      <td>0.0 - 5.0 seconds, There's an intro to a video...</td>\n",
       "    </tr>\n",
       "    <tr>\n",
       "      <th>4</th>\n",
       "      <td>9869</td>\n",
       "      <td>0.0 - 67.5 seconds, A sun rises in a beach.  1...</td>\n",
       "    </tr>\n",
       "    <tr>\n",
       "      <th>...</th>\n",
       "      <td>...</td>\n",
       "      <td>...</td>\n",
       "    </tr>\n",
       "    <tr>\n",
       "      <th>16719</th>\n",
       "      <td>8215</td>\n",
       "      <td>0.0 - 5.0 seconds, A woman is seen in front of...</td>\n",
       "    </tr>\n",
       "    <tr>\n",
       "      <th>16720</th>\n",
       "      <td>8216</td>\n",
       "      <td>In the given video, the highlights and feature...</td>\n",
       "    </tr>\n",
       "    <tr>\n",
       "      <th>16721</th>\n",
       "      <td>8217</td>\n",
       "      <td>0.0 - 21.2 seconds, A cartoon bear stands on t...</td>\n",
       "    </tr>\n",
       "    <tr>\n",
       "      <th>16722</th>\n",
       "      <td>8218</td>\n",
       "      <td>This is a cartoon video. \\n\\nThe highlights ar...</td>\n",
       "    </tr>\n",
       "    <tr>\n",
       "      <th>16723</th>\n",
       "      <td>8219</td>\n",
       "      <td>0.0 - 4.8 seconds, A man and a woman are shown...</td>\n",
       "    </tr>\n",
       "  </tbody>\n",
       "</table>\n",
       "<p>16724 rows × 2 columns</p>\n",
       "</div>"
      ],
      "text/plain": [
       "       video_id                                            message\n",
       "0          9865  0.0 - 12.8 seconds, Cartoon characters are dan...\n",
       "1          9866  This emphasizes the importance of using an app...\n",
       "2          9867  0.0 - 16.9 seconds, There are a lot of men out...\n",
       "3          9868  0.0 - 5.0 seconds, There's an intro to a video...\n",
       "4          9869  0.0 - 67.5 seconds, A sun rises in a beach.  1...\n",
       "...         ...                                                ...\n",
       "16719      8215  0.0 - 5.0 seconds, A woman is seen in front of...\n",
       "16720      8216  In the given video, the highlights and feature...\n",
       "16721      8217  0.0 - 21.2 seconds, A cartoon bear stands on t...\n",
       "16722      8218  This is a cartoon video. \\n\\nThe highlights ar...\n",
       "16723      8219  0.0 - 4.8 seconds, A man and a woman are shown...\n",
       "\n",
       "[16724 rows x 2 columns]"
      ]
     },
     "execution_count": 7,
     "metadata": {},
     "output_type": "execute_result"
    }
   ],
   "source": [
    "all_timechat_files"
   ]
  },
  {
   "cell_type": "code",
   "execution_count": 25,
   "metadata": {},
   "outputs": [],
   "source": [
    "# For range(1,19738) not in video_id, print\n",
    "lacks = []\n",
    "for i in range(1, 19738):\n",
    "    if i not in all_timechat_files['video_id'].unique():\n",
    "        lacks.append(i)"
   ]
  },
  {
   "cell_type": "code",
   "execution_count": 27,
   "metadata": {},
   "outputs": [
    {
     "data": {
      "text/plain": [
       "3520"
      ]
     },
     "execution_count": 27,
     "metadata": {},
     "output_type": "execute_result"
    }
   ],
   "source": [
    "len(lacks)"
   ]
  },
  {
   "cell_type": "code",
   "execution_count": 15,
   "metadata": {},
   "outputs": [],
   "source": [
    "def searchTimechatMessages(video_id):\n",
    "    if video_id in all_timechat_files.index:\n",
    "        results = all_timechat_files.loc[video_id, 'message']\n",
    "        if isinstance(results, str):\n",
    "            return results\n",
    "        else:\n",
    "            return results[results.str.len().idxmax()]\n",
    "    else:\n",
    "        return None\n"
   ]
  },
  {
   "cell_type": "code",
   "execution_count": 20,
   "metadata": {},
   "outputs": [
    {
     "ename": "AttributeError",
     "evalue": "'Series' object has no attribute 'progress_apply'",
     "output_type": "error",
     "traceback": [
      "\u001b[0;31m---------------------------------------------------------------------------\u001b[0m",
      "\u001b[0;31mAttributeError\u001b[0m                            Traceback (most recent call last)",
      "\u001b[0;32m/tmp/ipykernel_786142/2866006457.py\u001b[0m in \u001b[0;36m?\u001b[0;34m()\u001b[0m\n\u001b[1;32m      1\u001b[0m \u001b[0;31m# for row, comment in tqdm(comments.iterrows(), total=comments.shape[0]):\u001b[0m\u001b[0;34m\u001b[0m\u001b[0;34m\u001b[0m\u001b[0m\n\u001b[1;32m      2\u001b[0m \u001b[0;31m#     comments.at[row, 'content'] = searchTimechatMessages(comment['video_id'])\u001b[0m\u001b[0;34m\u001b[0m\u001b[0;34m\u001b[0m\u001b[0m\n\u001b[1;32m      3\u001b[0m \u001b[0;34m\u001b[0m\u001b[0m\n\u001b[1;32m      4\u001b[0m \u001b[0;31m# Use progress_apply to show progress bar and it could be faster\u001b[0m\u001b[0;34m\u001b[0m\u001b[0;34m\u001b[0m\u001b[0m\n\u001b[0;32m----> 5\u001b[0;31m \u001b[0mcomments\u001b[0m\u001b[0;34m[\u001b[0m\u001b[0;34m'content'\u001b[0m\u001b[0;34m]\u001b[0m \u001b[0;34m=\u001b[0m \u001b[0mcomments\u001b[0m\u001b[0;34m[\u001b[0m\u001b[0;34m'video_id'\u001b[0m\u001b[0;34m]\u001b[0m\u001b[0;34m.\u001b[0m\u001b[0mprogress_apply\u001b[0m\u001b[0;34m(\u001b[0m\u001b[0msearchTimechatMessages\u001b[0m\u001b[0;34m)\u001b[0m\u001b[0;34m\u001b[0m\u001b[0;34m\u001b[0m\u001b[0m\n\u001b[0m",
      "\u001b[0;32m~/micromamba/envs/microlens/lib/python3.11/site-packages/pandas/core/generic.py\u001b[0m in \u001b[0;36m?\u001b[0;34m(self, name)\u001b[0m\n\u001b[1;32m   6295\u001b[0m             \u001b[0;32mand\u001b[0m \u001b[0mname\u001b[0m \u001b[0;32mnot\u001b[0m \u001b[0;32min\u001b[0m \u001b[0mself\u001b[0m\u001b[0;34m.\u001b[0m\u001b[0m_accessors\u001b[0m\u001b[0;34m\u001b[0m\u001b[0;34m\u001b[0m\u001b[0m\n\u001b[1;32m   6296\u001b[0m             \u001b[0;32mand\u001b[0m \u001b[0mself\u001b[0m\u001b[0;34m.\u001b[0m\u001b[0m_info_axis\u001b[0m\u001b[0;34m.\u001b[0m\u001b[0m_can_hold_identifiers_and_holds_name\u001b[0m\u001b[0;34m(\u001b[0m\u001b[0mname\u001b[0m\u001b[0;34m)\u001b[0m\u001b[0;34m\u001b[0m\u001b[0;34m\u001b[0m\u001b[0m\n\u001b[1;32m   6297\u001b[0m         ):\n\u001b[1;32m   6298\u001b[0m             \u001b[0;32mreturn\u001b[0m \u001b[0mself\u001b[0m\u001b[0;34m[\u001b[0m\u001b[0mname\u001b[0m\u001b[0;34m]\u001b[0m\u001b[0;34m\u001b[0m\u001b[0;34m\u001b[0m\u001b[0m\n\u001b[0;32m-> 6299\u001b[0;31m         \u001b[0;32mreturn\u001b[0m \u001b[0mobject\u001b[0m\u001b[0;34m.\u001b[0m\u001b[0m__getattribute__\u001b[0m\u001b[0;34m(\u001b[0m\u001b[0mself\u001b[0m\u001b[0;34m,\u001b[0m \u001b[0mname\u001b[0m\u001b[0;34m)\u001b[0m\u001b[0;34m\u001b[0m\u001b[0;34m\u001b[0m\u001b[0m\n\u001b[0m",
      "\u001b[0;31mAttributeError\u001b[0m: 'Series' object has no attribute 'progress_apply'"
     ]
    }
   ],
   "source": [
    "for row, comment in tqdm(comments.iterrows(), total=comments.shape[0]):\n",
    "    comments.at[row, 'content'] = searchTimechatMessages(comment['video_id'])"
   ]
  },
  {
   "cell_type": "code",
   "execution_count": 22,
   "metadata": {},
   "outputs": [
    {
     "data": {
      "text/html": [
       "<div>\n",
       "<style scoped>\n",
       "    .dataframe tbody tr th:only-of-type {\n",
       "        vertical-align: middle;\n",
       "    }\n",
       "\n",
       "    .dataframe tbody tr th {\n",
       "        vertical-align: top;\n",
       "    }\n",
       "\n",
       "    .dataframe thead th {\n",
       "        text-align: right;\n",
       "    }\n",
       "</style>\n",
       "<table border=\"1\" class=\"dataframe\">\n",
       "  <thead>\n",
       "    <tr style=\"text-align: right;\">\n",
       "      <th></th>\n",
       "      <th>user_id</th>\n",
       "      <th>video_id</th>\n",
       "      <th>comment</th>\n",
       "      <th>content</th>\n",
       "    </tr>\n",
       "  </thead>\n",
       "  <tbody>\n",
       "    <tr>\n",
       "      <th>0</th>\n",
       "      <td>36121</td>\n",
       "      <td>9580</td>\n",
       "      <td>@ShiChenChen This sister is really delivering ...</td>\n",
       "      <td>None</td>\n",
       "    </tr>\n",
       "    <tr>\n",
       "      <th>1</th>\n",
       "      <td>26572</td>\n",
       "      <td>9580</td>\n",
       "      <td>I've had a couple of times when I've accidenta...</td>\n",
       "      <td>None</td>\n",
       "    </tr>\n",
       "    <tr>\n",
       "      <th>2</th>\n",
       "      <td>94805</td>\n",
       "      <td>9580</td>\n",
       "      <td>Well, why are they looking to the right I enco...</td>\n",
       "      <td>None</td>\n",
       "    </tr>\n",
       "    <tr>\n",
       "      <th>3</th>\n",
       "      <td>37550</td>\n",
       "      <td>9580</td>\n",
       "      <td>No, what I'm missing is a good cell phone. [ev...</td>\n",
       "      <td>None</td>\n",
       "    </tr>\n",
       "    <tr>\n",
       "      <th>4</th>\n",
       "      <td>89825</td>\n",
       "      <td>9580</td>\n",
       "      <td>Even if it's a god cell phone card, it's still...</td>\n",
       "      <td>None</td>\n",
       "    </tr>\n",
       "    <tr>\n",
       "      <th>...</th>\n",
       "      <td>...</td>\n",
       "      <td>...</td>\n",
       "      <td>...</td>\n",
       "      <td>...</td>\n",
       "    </tr>\n",
       "    <tr>\n",
       "      <th>556137</th>\n",
       "      <td>27203</td>\n",
       "      <td>7291</td>\n",
       "      <td>19 hours ago @ the</td>\n",
       "      <td>In this video, I see highlights such as a man ...</td>\n",
       "    </tr>\n",
       "    <tr>\n",
       "      <th>556138</th>\n",
       "      <td>29261</td>\n",
       "      <td>19649</td>\n",
       "      <td>It's the same thing I told you.</td>\n",
       "      <td>None</td>\n",
       "    </tr>\n",
       "    <tr>\n",
       "      <th>556139</th>\n",
       "      <td>28341</td>\n",
       "      <td>19188</td>\n",
       "      <td>Don't look, this is a secondary girlfriend and...</td>\n",
       "      <td>None</td>\n",
       "    </tr>\n",
       "    <tr>\n",
       "      <th>556140</th>\n",
       "      <td>38967</td>\n",
       "      <td>7254</td>\n",
       "      <td>@HalfSpoonBubbleGum @Anonyme</td>\n",
       "      <td>0.0 - 3.5 seconds, A dog is seen standing in a...</td>\n",
       "    </tr>\n",
       "    <tr>\n",
       "      <th>556141</th>\n",
       "      <td>53297</td>\n",
       "      <td>7695</td>\n",
       "      <td>@Don't Eat Fish _ @Huiqing who started school....</td>\n",
       "      <td>0.0 - 152.3 seconds, A man and woman have a co...</td>\n",
       "    </tr>\n",
       "  </tbody>\n",
       "</table>\n",
       "<p>556142 rows × 4 columns</p>\n",
       "</div>"
      ],
      "text/plain": [
       "       user_id video_id                                            comment  \\\n",
       "0        36121     9580  @ShiChenChen This sister is really delivering ...   \n",
       "1        26572     9580  I've had a couple of times when I've accidenta...   \n",
       "2        94805     9580  Well, why are they looking to the right I enco...   \n",
       "3        37550     9580  No, what I'm missing is a good cell phone. [ev...   \n",
       "4        89825     9580  Even if it's a god cell phone card, it's still...   \n",
       "...        ...      ...                                                ...   \n",
       "556137   27203     7291                                 19 hours ago @ the   \n",
       "556138   29261    19649                    It's the same thing I told you.   \n",
       "556139   28341    19188  Don't look, this is a secondary girlfriend and...   \n",
       "556140   38967     7254                       @HalfSpoonBubbleGum @Anonyme   \n",
       "556141   53297     7695  @Don't Eat Fish _ @Huiqing who started school....   \n",
       "\n",
       "                                                  content  \n",
       "0                                                    None  \n",
       "1                                                    None  \n",
       "2                                                    None  \n",
       "3                                                    None  \n",
       "4                                                    None  \n",
       "...                                                   ...  \n",
       "556137  In this video, I see highlights such as a man ...  \n",
       "556138                                               None  \n",
       "556139                                               None  \n",
       "556140  0.0 - 3.5 seconds, A dog is seen standing in a...  \n",
       "556141  0.0 - 152.3 seconds, A man and woman have a co...  \n",
       "\n",
       "[556142 rows x 4 columns]"
      ]
     },
     "execution_count": 22,
     "metadata": {},
     "output_type": "execute_result"
    }
   ],
   "source": [
    "comments"
   ]
  },
  {
   "cell_type": "code",
   "execution_count": 21,
   "metadata": {},
   "outputs": [],
   "source": [
    "comments.to_csv('/hpc2hdd/home/yxu409/MicroLens/Dataset/Microlens-100k/MicroLens-100k_comment_en_with_timechat.txt', sep='\t', header=False, index=False)"
   ]
  }
 ],
 "metadata": {
  "kernelspec": {
   "display_name": "Python 3",
   "language": "python",
   "name": "python3"
  },
  "language_info": {
   "codemirror_mode": {
    "name": "ipython",
    "version": 3
   },
   "file_extension": ".py",
   "mimetype": "text/x-python",
   "name": "python",
   "nbconvert_exporter": "python",
   "pygments_lexer": "ipython3",
   "version": "3.11.8"
  }
 },
 "nbformat": 4,
 "nbformat_minor": 2
}
